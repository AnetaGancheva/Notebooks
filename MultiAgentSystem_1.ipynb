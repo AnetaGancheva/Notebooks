{
  "nbformat": 4,
  "nbformat_minor": 0,
  "metadata": {
    "colab": {
      "provenance": [],
      "authorship_tag": "ABX9TyOGFLnhFbRcO1OOGoxFDYIU",
      "include_colab_link": true
    },
    "kernelspec": {
      "name": "python3",
      "display_name": "Python 3"
    },
    "language_info": {
      "name": "python"
    }
  },
  "cells": [
    {
      "cell_type": "markdown",
      "metadata": {
        "id": "view-in-github",
        "colab_type": "text"
      },
      "source": [
        "<a href=\"https://colab.research.google.com/github/AnetaGancheva/Notebooks/blob/main/MultiAgentSystem_1.ipynb\" target=\"_parent\"><img src=\"https://colab.research.google.com/assets/colab-badge.svg\" alt=\"Open In Colab\"/></a>"
      ]
    },
    {
      "cell_type": "markdown",
      "source": [
        "Calculate the distance to the furthest Irish pub in the world"
      ],
      "metadata": {
        "id": "EdtYt8G2BGsf"
      }
    },
    {
      "cell_type": "markdown",
      "source": [
        "A Multi Agent System practice:\n",
        "\n",
        "Current scope: System of agents will calculate the travel distance between current position and the furthest Irish pub in the world."
      ],
      "metadata": {
        "id": "xDgcRzf-p_X7"
      }
    },
    {
      "cell_type": "code",
      "execution_count": 2,
      "metadata": {
        "id": "15h_CTIS2LDh"
      },
      "outputs": [],
      "source": [
        "!pip install 'smolagents[litellm]' matplotlib geopandas shapely kaleido -q"
      ]
    },
    {
      "cell_type": "code",
      "source": [
        "import math\n",
        "from typing import Tuple\n",
        "from smolagents import tool\n",
        "\n",
        "@tool\n",
        "def calculate_distance(\n",
        "    origin_coords: Tuple[float, float],\n",
        "    destination_coords: Tuple[float, float],\n",
        ") -> float:\n",
        "\n",
        "    \"\"\"\n",
        "    A function to calculate the distance between two points on Earth based on their coordinates.\n",
        "\n",
        "    Args:\n",
        "\n",
        "    origin_coords: Tuple of (latitude, longitude) for starting point\n",
        "    destination_coords: Tuple of (latitude, longitude) for end point\n",
        "\n",
        "    Returns:\n",
        "    float: the calculated distance in km between the two points\n",
        "\n",
        "    Example:\n",
        "        >>> # Varna, Bulgaria (43.2141° N, 27.9147° E) to Santiago, Chille (33.4489° S, 70.6693° W)\n",
        "        >>> result = calculate_distance((43.2141, 27.9147), (-33.4489, -70.6693))\n",
        "    \"\"\"\n",
        "\n",
        "    # Convert degrees to radians function\n",
        "    def to_rads(degrees: float) -> float:\n",
        "      return (degrees*(math.pi/180.0))\n",
        "\n",
        "    # Extract coordinates\n",
        "    lat_orig, lon_orig = map(to_rads, origin_coords)\n",
        "    lat_dest, lon_dest = map(to_rads, destination_coords)\n",
        "\n",
        "    # Earth's radius (km)\n",
        "    EARTH_RADIUS_KM = 6371.0\n",
        "\n",
        "    # Apply Haversine formula to get distance\n",
        "    dlat = lat_dest - lat_orig\n",
        "    dlon = lon_dest - lon_orig\n",
        "\n",
        "    a = (\n",
        "        math.sin(dlat/2) ** 2 + math.cos(lat_orig) * math.cos(lat_dest) * math.sin(dlon/2) ** 2\n",
        "    )\n",
        "\n",
        "    c = 2 * math.asin(math.sqrt(a))\n",
        "\n",
        "    distance = EARTH_RADIUS_KM * c\n",
        "\n",
        "    return distance\n"
      ],
      "metadata": {
        "id": "12P--GWq2tF2"
      },
      "execution_count": 3,
      "outputs": []
    },
    {
      "cell_type": "code",
      "source": [
        "from smolagents import CodeAgent, DuckDuckGoSearchTool, HfApiModel, VisitWebpageTool\n",
        "\n",
        "model = HfApiModel(model_id=\"Qwen/Qwen2.5-Coder-32B-Instruct\", provider=\"together\")"
      ],
      "metadata": {
        "id": "T4bPGvibBQrD"
      },
      "execution_count": 4,
      "outputs": []
    },
    {
      "cell_type": "code",
      "source": [
        "web_agent = CodeAgent(\n",
        "    model= model,\n",
        "    tools=[ DuckDuckGoSearchTool(), VisitWebpageTool(), calculate_distance ],\n",
        "    name=\"web_agent\",\n",
        "    description=\"Browses the web to find information\",\n",
        "    verbosity_level=0,\n",
        "    max_steps=10,\n",
        ")"
      ],
      "metadata": {
        "id": "kbRxMsWfK_eQ"
      },
      "execution_count": 5,
      "outputs": []
    },
    {
      "cell_type": "code",
      "source": [
        "import os\n",
        "from smolagents.utils import encode_image_base64, make_image_url\n",
        "from smolagents import OpenAIServerModel\n",
        "from PIL import Image\n",
        "\n",
        "\n",
        "def check_reasoning_and_plot(final_answer, agent_memory):\n",
        "    final_answer\n",
        "    multimodal_model = OpenAIServerModel(\"gpt-4o\", max_tokens=8096)\n",
        "    filepath = \"saved_map.png\"\n",
        "    assert os.path.exists(filepath), \"Make sure to save the plot under saved_map.png!\"\n",
        "    image = Image.open(filepath)\n",
        "    prompt = (\n",
        "        f\"Here is a user-given task and the agent steps: {agent_memory.get_succinct_steps()}. Now here is the plot that was made.\"\n",
        "        \"Please check that the reasoning process and plot are correct: do they correctly answer the given task?\"\n",
        "        \"First list reasons why yes/no, then write your final decision: PASS in caps lock if it is satisfactory, FAIL if it is not.\"\n",
        "        \"Don't be harsh: if the plot mostly solves the task, it should pass.\"\n",
        "        \"To pass, a plot should be made using px.scatter_map and not any other method (scatter_map looks nicer).\"\n",
        "    )\n",
        "    messages = [\n",
        "        {\n",
        "            \"role\": \"user\",\n",
        "            \"content\": [\n",
        "                {\n",
        "                    \"type\": \"text\",\n",
        "                    \"text\": prompt,\n",
        "                },\n",
        "                {\n",
        "                    \"type\": \"image_url\",\n",
        "                    \"image_url\": {\"url\": make_image_url(encode_image_base64(image))},\n",
        "                },\n",
        "            ],\n",
        "        }\n",
        "    ]\n",
        "    output = multimodal_model(messages).content\n",
        "    print(\"Feedback: \", output)\n",
        "    if \"FAIL\" in output:\n",
        "        raise Exception(output)\n",
        "    return True"
      ],
      "metadata": {
        "id": "E-HNeZj8EMBM"
      },
      "execution_count": 6,
      "outputs": []
    },
    {
      "cell_type": "code",
      "source": [
        "manager_agent = CodeAgent(\n",
        "    model=HfApiModel(\"deepseek-ai/DeepSeek-R1\", provider=\"together\"),\n",
        "    tools=[calculate_distance],\n",
        "    managed_agents=[web_agent],\n",
        "    additional_authorized_imports=[\n",
        "        \"geopandas\",\n",
        "        \"plotly\",\n",
        "        \"shapely\",\n",
        "        \"json\",\n",
        "        \"pandas\",\n",
        "        \"numpy\",\n",
        "    ],\n",
        "    planning_interval=5,\n",
        "    verbosity_level=2,\n",
        "    final_answer_checks=[check_reasoning_and_plot],\n",
        "    max_steps=1\n",
        ")"
      ],
      "metadata": {
        "id": "w_g1GXELBrmZ"
      },
      "execution_count": 9,
      "outputs": []
    },
    {
      "cell_type": "code",
      "source": [
        "manager_agent.run(\"\"\"\n",
        "Find the locations of all Irish pubs in the world and calculate the distance to Varna, Bulgaria (43.2141° N, 27.9147° E).\n",
        "Represent this as a spatial map of the world, with the locations represented as scatter ploints with a color that depends on travel time.\n",
        "\n",
        "Here is an example of how to plot and return a map:\n",
        "\n",
        "df = px.data.carshare()\n",
        "fig = px.scatter_map(df, lat=\"centroid_lat\", lon=\"centroid_lon\", text=\"name\", color=\"peak_hour\", size=100,\n",
        "     color_continuous_scale=px.colors.sequential.Magma, size_max=15, zoom=1)\n",
        "fig.show()\n",
        "fig.write_image(\"saved_image.png\")\n",
        "final_answer(fig)\n",
        "\n",
        "Never try to process strings using code: when you have a string to read, just print it and you will see it.\n",
        "\n",
        "\"\"\")"
      ],
      "metadata": {
        "id": "68gn7wHqC9z8"
      },
      "execution_count": null,
      "outputs": []
    },
    {
      "cell_type": "code",
      "source": [],
      "metadata": {
        "id": "RmVJJ8vBDYFa"
      },
      "execution_count": null,
      "outputs": []
    }
  ]
}